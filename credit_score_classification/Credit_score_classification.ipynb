{
  "cells": [
    {
      "cell_type": "code",
      "execution_count": null,
      "metadata": {
        "colab": {
          "background_save": true
        },
        "id": "sWqDy2CWvC4c"
      },
      "outputs": [],
      "source": [
        "import pandas as pd\n",
        "import numpy as np\n",
        "import plotly.express as px\n",
        "import plotly.graph_objects as go\n",
        "import plotly.io as pio\n",
        "pio.templates.default = \"plotly_white\""
      ]
    },
    {
      "cell_type": "code",
      "execution_count": null,
      "metadata": {
        "colab": {
          "background_save": true
        },
        "id": "4mFZ25CovkmV",
        "outputId": "962af192-4a42-42b1-904f-26859fe76127"
      },
      "outputs": [
        {
          "name": "stdout",
          "output_type": "stream",
          "text": [
            "     ID  Customer_ID  Month           Name   Age          SSN Occupation  \\\n",
            "0  5634         3392      1  Aaron Maashoh  23.0  821000265.0  Scientist   \n",
            "1  5635         3392      2  Aaron Maashoh  23.0  821000265.0  Scientist   \n",
            "2  5636         3392      3  Aaron Maashoh  23.0  821000265.0  Scientist   \n",
            "3  5637         3392      4  Aaron Maashoh  23.0  821000265.0  Scientist   \n",
            "4  5638         3392      5  Aaron Maashoh  23.0  821000265.0  Scientist   \n",
            "\n",
            "   Annual_Income  Monthly_Inhand_Salary  Num_Bank_Accounts  ...  Credit_Mix  \\\n",
            "0       19114.12            1824.843333                3.0  ...        Good   \n",
            "1       19114.12            1824.843333                3.0  ...        Good   \n",
            "2       19114.12            1824.843333                3.0  ...        Good   \n",
            "3       19114.12            1824.843333                3.0  ...        Good   \n",
            "4       19114.12            1824.843333                3.0  ...        Good   \n",
            "\n",
            "   Outstanding_Debt  Credit_Utilization_Ratio Credit_History_Age  \\\n",
            "0            809.98                 26.822620              265.0   \n",
            "1            809.98                 31.944960              266.0   \n",
            "2            809.98                 28.609352              267.0   \n",
            "3            809.98                 31.377862              268.0   \n",
            "4            809.98                 24.797347              269.0   \n",
            "\n",
            "   Payment_of_Min_Amount  Total_EMI_per_month  Amount_invested_monthly  \\\n",
            "0                     No            49.574949                 21.46538   \n",
            "1                     No            49.574949                 21.46538   \n",
            "2                     No            49.574949                 21.46538   \n",
            "3                     No            49.574949                 21.46538   \n",
            "4                     No            49.574949                 21.46538   \n",
            "\n",
            "                  Payment_Behaviour Monthly_Balance  Credit_Score  \n",
            "0   High_spent_Small_value_payments      312.494089          Good  \n",
            "1    Low_spent_Large_value_payments      284.629162          Good  \n",
            "2   Low_spent_Medium_value_payments      331.209863          Good  \n",
            "3    Low_spent_Small_value_payments      223.451310          Good  \n",
            "4  High_spent_Medium_value_payments      341.489231          Good  \n",
            "\n",
            "[5 rows x 28 columns]\n"
          ]
        }
      ],
      "source": [
        "data = pd.read_csv(\"train.csv\")\n",
        "print(data.head())"
      ]
    },
    {
      "cell_type": "code",
      "execution_count": null,
      "metadata": {
        "id": "3neKoDnovy0V"
      },
      "outputs": [],
      "source": [
        "print(data.info())"
      ]
    },
    {
      "cell_type": "code",
      "execution_count": null,
      "metadata": {
        "id": "ESGPjWphv2n6"
      },
      "outputs": [],
      "source": [
        "print(data.isnull().sum())"
      ]
    },
    {
      "cell_type": "code",
      "execution_count": null,
      "metadata": {
        "id": "I3YYx4gCwSVH"
      },
      "outputs": [],
      "source": [
        "data[\"Credit_Score\"].value_counts()"
      ]
    },
    {
      "cell_type": "markdown",
      "metadata": {
        "id": "uJeCnCdnwjwp"
      },
      "source": [
        "Data exploration"
      ]
    },
    {
      "cell_type": "code",
      "execution_count": null,
      "metadata": {
        "id": "DGldxv17wXyj"
      },
      "outputs": [],
      "source": [
        "fig = px.box(data,\n",
        "             x=\"Occupation\",\n",
        "             color=\"Credit_Score\",\n",
        "             title=\"Credit Scores Based on Occupation\",\n",
        "             color_discrete_map={'Poor':'red',\n",
        "                                 'Standard':'yellow',\n",
        "                                 'Good':'green'})\n",
        "fig.show()"
      ]
    },
    {
      "cell_type": "code",
      "execution_count": null,
      "metadata": {
        "id": "jwCVYcYawvw0"
      },
      "outputs": [],
      "source": [
        "fig = px.box(data,\n",
        "             x=\"Credit_Score\",\n",
        "             y=\"Annual_Income\",\n",
        "             color=\"Credit_Score\",\n",
        "             title=\"Credit Scores Based on Annual Income\",\n",
        "             color_discrete_map={'Poor':'red',\n",
        "                                 'Standard':'yellow',\n",
        "                                 'Good':'green'})\n",
        "fig.update_traces(quartilemethod=\"exclusive\")\n",
        "fig.show()"
      ]
    },
    {
      "cell_type": "code",
      "execution_count": null,
      "metadata": {
        "id": "i9ShytA5w7GV"
      },
      "outputs": [],
      "source": [
        "fig = px.box(data,\n",
        "             x=\"Credit_Score\",\n",
        "             y=\"Monthly_Inhand_Salary\",\n",
        "             color=\"Credit_Score\",\n",
        "             title=\"Credit Scores Based on Monthly Inhand Salary\",\n",
        "             color_discrete_map={'Poor':'red',\n",
        "                                 'Standard':'yellow',\n",
        "                                 'Good':'green'})\n",
        "fig.update_traces(quartilemethod=\"exclusive\")\n",
        "fig.show()"
      ]
    },
    {
      "cell_type": "code",
      "execution_count": null,
      "metadata": {
        "id": "LpGOXvQ6xDor"
      },
      "outputs": [],
      "source": [
        "fig = px.box(data,\n",
        "             x=\"Credit_Score\",\n",
        "             y=\"Num_Bank_Accounts\",\n",
        "             color=\"Credit_Score\",\n",
        "             title=\"Credit Scores Based on Number of Bank Accounts\",\n",
        "             color_discrete_map={'Poor':'red',\n",
        "                                 'Standard':'yellow',\n",
        "                                 'Good':'green'})\n",
        "fig.update_traces(quartilemethod=\"exclusive\")\n",
        "fig.show()"
      ]
    },
    {
      "cell_type": "code",
      "execution_count": null,
      "metadata": {
        "id": "SH7JsOW-xJwA"
      },
      "outputs": [],
      "source": [
        "fig = px.box(data,\n",
        "             x=\"Credit_Score\",\n",
        "             y=\"Num_Credit_Card\",\n",
        "             color=\"Credit_Score\",\n",
        "             title=\"Credit Scores Based on Number of Credit cards\",\n",
        "             color_discrete_map={'Poor':'red',\n",
        "                                 'Standard':'yellow',\n",
        "                                 'Good':'green'})\n",
        "fig.update_traces(quartilemethod=\"exclusive\")\n",
        "fig.show()"
      ]
    },
    {
      "cell_type": "code",
      "execution_count": null,
      "metadata": {
        "id": "1bA2rqVXxPk2"
      },
      "outputs": [],
      "source": [
        "fig = px.box(data,\n",
        "             x=\"Credit_Score\",\n",
        "             y=\"Interest_Rate\",\n",
        "             color=\"Credit_Score\",\n",
        "             title=\"Credit Scores Based on the Average Interest rates\",\n",
        "             color_discrete_map={'Poor':'red',\n",
        "                                 'Standard':'yellow',\n",
        "                                 'Good':'green'})\n",
        "fig.update_traces(quartilemethod=\"exclusive\")\n",
        "fig.show()"
      ]
    },
    {
      "cell_type": "code",
      "execution_count": null,
      "metadata": {
        "id": "D3iuyERexWKp"
      },
      "outputs": [],
      "source": [
        "fig = px.box(data,\n",
        "             x=\"Credit_Score\",\n",
        "             y=\"Num_of_Loan\",\n",
        "             color=\"Credit_Score\",\n",
        "             title=\"Credit Scores Based on Number of Loans Taken by the Person\",\n",
        "             color_discrete_map={'Poor':'red',\n",
        "                                 'Standard':'yellow',\n",
        "                                 'Good':'green'})\n",
        "fig.update_traces(quartilemethod=\"exclusive\")\n",
        "fig.show()"
      ]
    },
    {
      "cell_type": "code",
      "execution_count": null,
      "metadata": {
        "id": "hnOwCB9XxdKw"
      },
      "outputs": [],
      "source": [
        "fig = px.box(data,\n",
        "             x=\"Credit_Score\",\n",
        "             y=\"Delay_from_due_date\",\n",
        "             color=\"Credit_Score\",\n",
        "             title=\"Credit Scores Based on Average Number of Days Delayed for Credit card Payments\",\n",
        "             color_discrete_map={'Poor':'red',\n",
        "                                 'Standard':'yellow',\n",
        "                                 'Good':'green'})\n",
        "fig.update_traces(quartilemethod=\"exclusive\")\n",
        "fig.show()"
      ]
    },
    {
      "cell_type": "code",
      "execution_count": null,
      "metadata": {
        "id": "0BB6ckVFxkjB"
      },
      "outputs": [],
      "source": [
        "fig = px.box(data,\n",
        "             x=\"Credit_Score\",\n",
        "             y=\"Num_of_Delayed_Payment\",\n",
        "             color=\"Credit_Score\",\n",
        "             title=\"Credit Scores Based on Number of Delayed Payments\",\n",
        "             color_discrete_map={'Poor':'red',\n",
        "                                 'Standard':'yellow',\n",
        "                                 'Good':'green'})\n",
        "fig.update_traces(quartilemethod=\"exclusive\")\n",
        "fig.show()"
      ]
    },
    {
      "cell_type": "code",
      "execution_count": null,
      "metadata": {
        "id": "C6oYUNFsxpCK"
      },
      "outputs": [],
      "source": [
        "fig = px.box(data,\n",
        "             x=\"Credit_Score\",\n",
        "             y=\"Outstanding_Debt\",\n",
        "             color=\"Credit_Score\",\n",
        "             title=\"Credit Scores Based on Outstanding Debt\",\n",
        "             color_discrete_map={'Poor':'red',\n",
        "                                 'Standard':'yellow',\n",
        "                                 'Good':'green'})\n",
        "fig.update_traces(quartilemethod=\"exclusive\")\n",
        "fig.show()"
      ]
    },
    {
      "cell_type": "code",
      "execution_count": null,
      "metadata": {
        "id": "3A31pZQjxtWF"
      },
      "outputs": [],
      "source": [
        "fig = px.box(data,\n",
        "             x=\"Credit_Score\",\n",
        "             y=\"Credit_Utilization_Ratio\",\n",
        "             color=\"Credit_Score\",\n",
        "             title=\"Credit Scores Based on Credit Utilization Ratio\",\n",
        "             color_discrete_map={'Poor':'red',\n",
        "                                 'Standard':'yellow',\n",
        "                                 'Good':'green'})\n",
        "fig.update_traces(quartilemethod=\"exclusive\")\n",
        "fig.show()"
      ]
    },
    {
      "cell_type": "code",
      "execution_count": null,
      "metadata": {
        "id": "p8IVDAvWxx9P"
      },
      "outputs": [],
      "source": [
        "fig = px.box(data,\n",
        "             x=\"Credit_Score\",\n",
        "             y=\"Credit_History_Age\",\n",
        "             color=\"Credit_Score\",\n",
        "             title=\"Credit Scores Based on Credit History Age\",\n",
        "             color_discrete_map={'Poor':'red',\n",
        "                                 'Standard':'yellow',\n",
        "                                 'Good':'green'})\n",
        "fig.update_traces(quartilemethod=\"exclusive\")\n",
        "fig.show()"
      ]
    },
    {
      "cell_type": "code",
      "execution_count": null,
      "metadata": {
        "id": "jbNfFyRGx62u"
      },
      "outputs": [],
      "source": [
        "fig = px.box(data,\n",
        "             x=\"Credit_Score\",\n",
        "             y=\"Total_EMI_per_month\",\n",
        "             color=\"Credit_Score\",\n",
        "             title=\"Credit Scores Based on Total Number of EMIs per Month\",\n",
        "             color_discrete_map={'Poor':'red',\n",
        "                                 'Standard':'yellow',\n",
        "                                 'Good':'green'})\n",
        "fig.update_traces(quartilemethod=\"exclusive\")\n",
        "fig.show()"
      ]
    },
    {
      "cell_type": "code",
      "execution_count": null,
      "metadata": {
        "id": "wo5FTazkx97n"
      },
      "outputs": [],
      "source": [
        "fig = px.box(data,\n",
        "             x=\"Credit_Score\",\n",
        "             y=\"Amount_invested_monthly\",\n",
        "             color=\"Credit_Score\",\n",
        "             title=\"Credit Scores Based on Amount Invested Monthly\",\n",
        "             color_discrete_map={'Poor':'red',\n",
        "                                 'Standard':'yellow',\n",
        "                                 'Good':'green'})\n",
        "fig.update_traces(quartilemethod=\"exclusive\")\n",
        "fig.show()"
      ]
    },
    {
      "cell_type": "code",
      "execution_count": null,
      "metadata": {
        "id": "FUQyoRCXyBMs"
      },
      "outputs": [],
      "source": [
        "fig = px.box(data,\n",
        "             x=\"Credit_Score\",\n",
        "             y=\"Monthly_Balance\",\n",
        "             color=\"Credit_Score\",\n",
        "             title=\"Credit Scores Based on Monthly Balance Left\",\n",
        "             color_discrete_map={'Poor':'red',\n",
        "                                 'Standard':'yellow',\n",
        "                                 'Good':'green'})\n",
        "fig.update_traces(quartilemethod=\"exclusive\")\n",
        "fig.show()"
      ]
    },
    {
      "cell_type": "code",
      "execution_count": null,
      "metadata": {
        "id": "7v9KBiyKyGKi"
      },
      "outputs": [],
      "source": []
    }
  ],
  "metadata": {
    "colab": {
      "provenance": []
    },
    "kernelspec": {
      "display_name": "Python 3",
      "name": "python3"
    },
    "language_info": {
      "name": "python"
    }
  },
  "nbformat": 4,
  "nbformat_minor": 0
}