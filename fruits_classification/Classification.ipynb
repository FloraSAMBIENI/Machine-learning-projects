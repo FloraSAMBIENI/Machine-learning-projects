{
  "nbformat": 4,
  "nbformat_minor": 0,
  "metadata": {
    "colab": {
      "provenance": []
    },
    "kernelspec": {
      "name": "python3",
      "display_name": "Python 3"
    },
    "language_info": {
      "name": "python"
    }
  },
  "cells": [
    {
      "cell_type": "code",
      "execution_count": null,
      "metadata": {
        "colab": {
          "base_uri": "https://localhost:8080/"
        },
        "id": "WuKsOjI0STWG",
        "outputId": "08d2568b-6b11-459e-deb1-afc853822bbd"
      },
      "outputs": [
        {
          "output_type": "stream",
          "name": "stdout",
          "text": [
            "Numéro de cluster des cerises : [0]\n",
            "C'est une cerise !\n",
            "Numéro de cluster des abricots: [1]\n",
            "C'est un abricot !\n"
          ]
        },
        {
          "output_type": "stream",
          "name": "stderr",
          "text": [
            "/usr/local/lib/python3.10/dist-packages/sklearn/base.py:493: UserWarning: X does not have valid feature names, but KMeans was fitted with feature names\n",
            "  warnings.warn(\n",
            "<ipython-input-3-be0d5130d09b>:9: DeprecationWarning: Conversion of an array with ndim > 0 to a scalar is deprecated, and will error in future. Ensure you extract a single element from your array before performing this operation. (Deprecated NumPy 1.25.)\n",
            "  if int(numCluster) == 1:\n",
            "/usr/local/lib/python3.10/dist-packages/sklearn/base.py:493: UserWarning: X does not have valid feature names, but KMeans was fitted with feature names\n",
            "  warnings.warn(\n",
            "<ipython-input-3-be0d5130d09b>:17: DeprecationWarning: Conversion of an array with ndim > 0 to a scalar is deprecated, and will error in future. Ensure you extract a single element from your array before performing this operation. (Deprecated NumPy 1.25.)\n",
            "  if int(numCluster) == 1:\n"
          ]
        }
      ],
      "source": [
        "#Chargement du modèle\n",
        "from joblib import load\n",
        "modele = load('/content/data/kmean.joblib')\n",
        "#CERISE: 26.98 mm de diamètre , 8.75 grammes\n",
        "#ABRICOT: 55.7 mm de diamètre , 102.16 grammes\n",
        "cerise= [[26.98, 8.75 ]]\n",
        "numCluster = modele.predict(cerise)\n",
        "print(\"Numéro de cluster des cerises : \" + str(numCluster))\n",
        "if int(numCluster) == 1:\n",
        "  print(\"C'est un abricot !\")\n",
        "else:\n",
        "  print(\"C'est une cerise !\")\n",
        "\n",
        "abricot = [[55.7, 102.16]]\n",
        "numCluster = modele.predict(abricot)\n",
        "print(\"Numéro de cluster des abricots: \" + str(numCluster))\n",
        "if int(numCluster) == 1:\n",
        "  print(\"C'est un abricot !\")\n",
        "else:\n",
        "  print(\"C'est une cerise !\")"
      ]
    },
    {
      "cell_type": "code",
      "source": [],
      "metadata": {
        "id": "J5RSIMPyagXF"
      },
      "execution_count": null,
      "outputs": []
    }
  ]
}