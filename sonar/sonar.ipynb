{
  "nbformat": 4,
  "nbformat_minor": 0,
  "metadata": {
    "colab": {
      "provenance": []
    },
    "kernelspec": {
      "name": "python3",
      "display_name": "Python 3"
    },
    "language_info": {
      "name": "python"
    }
  },
  "cells": [
    {
      "cell_type": "code",
      "execution_count": null,
      "metadata": {
        "id": "tv0297ETawoe"
      },
      "outputs": [],
      "source": [
        "import pandas as pnd\n",
        "observations = pnd.read_csv(\"/content/data/sonar.all-data.csv\")"
      ]
    },
    {
      "cell_type": "code",
      "source": [
        "print(observations.columns.values)"
      ],
      "metadata": {
        "colab": {
          "base_uri": "https://localhost:8080/"
        },
        "id": "7NOnc4DKbtcz",
        "outputId": "730d9c21-791f-47a8-84f4-db9d7b3a7a7a"
      },
      "execution_count": null,
      "outputs": [
        {
          "output_type": "stream",
          "name": "stdout",
          "text": [
            "['0.0200' '0.0371' '0.0428' '0.0207' '0.0954' '0.0986' '0.1539' '0.1601'\n",
            " '0.3109' '0.2111' '0.1609' '0.1582' '0.2238' '0.0645' '0.0660' '0.2273'\n",
            " '0.3100' '0.2999' '0.5078' '0.4797' '0.5783' '0.5071' '0.4328' '0.5550'\n",
            " '0.6711' '0.6415' '0.7104' '0.8080' '0.6791' '0.3857' '0.1307' '0.2604'\n",
            " '0.5121' '0.7547' '0.8537' '0.8507' '0.6692' '0.6097' '0.4943' '0.2744'\n",
            " '0.0510' '0.2834' '0.2825' '0.4256' '0.2641' '0.1386' '0.1051' '0.1343'\n",
            " '0.0383' '0.0324' '0.0232' '0.0027' '0.0065' '0.0159' '0.0072' '0.0167'\n",
            " '0.0180' '0.0084' '0.0090' '0.0032' 'R']\n"
          ]
        }
      ]
    },
    {
      "cell_type": "code",
      "source": [
        "print(observations.shape)"
      ],
      "metadata": {
        "colab": {
          "base_uri": "https://localhost:8080/"
        },
        "id": "H3B9_2yTcXZm",
        "outputId": "c1b3a8c0-b90a-40b9-961e-84a817a5f406"
      },
      "execution_count": null,
      "outputs": [
        {
          "output_type": "stream",
          "name": "stdout",
          "text": [
            "(207, 61)\n"
          ]
        }
      ]
    },
    {
      "cell_type": "code",
      "source": [
        "#Nommer les features\n",
        "\n",
        "observations = pnd.read_csv(\"/content/data/sonar.all-data.csv\", names=[\"F1\",\"F2\",\"F3\",\"F4\",\"F5\",\"F6\",\"F7\",\"F8\",\"F9\",\"F10\",\"F11\",\"F12\",\"F13\",\"F14\",\"F15\",\"F16\",\"F17\",\"F18\",\"F19\",\n",
        "\"F20\",\"F21\",\"F22\",\"F23\",\"F24\",\"F25\",\"F26\",\"F27\",\"F28\",\"F29\",\"F30\",\"F31\",\"F32\",\"F33\",\"F34\",\"F35\",\"F36\",\"F37\",\"F38\",\"F39\",\"F40\",\"F41\",\"F42\",\"F43\",\"F44\",\"F45\",\"F46\",\"F47\",\"F48\",\n",
        "\"F49\",\"F50\",\"F51\",\"F52\",\"F53\",\"F54\",\"F55\",\"F56\",\"F57\",\"F58\",\"F59\",\"F60\",\"OBJET\"])"
      ],
      "metadata": {
        "id": "P-vaVDAxcuX-"
      },
      "execution_count": null,
      "outputs": []
    },
    {
      "cell_type": "code",
      "source": [
        "#Désactivation du nombre maximum de colonnes du Dataframe à afficher\n",
        "pnd.set_option('display.max_columns' , None)\n",
        "#Affichage des 10 premières observations\n",
        "print(observations.head(10))"
      ],
      "metadata": {
        "colab": {
          "base_uri": "https://localhost:8080/"
        },
        "id": "m4lfLbbUfew0",
        "outputId": "cdda5ca6-d316-4b04-9f60-486d5110f438"
      },
      "execution_count": null,
      "outputs": [
        {
          "output_type": "stream",
          "name": "stdout",
          "text": [
            "       F1      F2      F3      F4      F5      F6      F7      F8      F9  \\\n",
            "0  0.0200  0.0371  0.0428  0.0207  0.0954  0.0986  0.1539  0.1601  0.3109   \n",
            "1  0.0453  0.0523  0.0843  0.0689  0.1183  0.2583  0.2156  0.3481  0.3337   \n",
            "2  0.0262  0.0582  0.1099  0.1083  0.0974  0.2280  0.2431  0.3771  0.5598   \n",
            "3  0.0100  0.0171  0.0623  0.0205  0.0205  0.0368  0.1098  0.1276  0.0598   \n",
            "4  0.0762  0.0666  0.0481  0.0394  0.0590  0.0649  0.1209  0.2467  0.3564   \n",
            "5  0.0286  0.0453  0.0277  0.0174  0.0384  0.0990  0.1201  0.1833  0.2105   \n",
            "6  0.0317  0.0956  0.1321  0.1408  0.1674  0.1710  0.0731  0.1401  0.2083   \n",
            "7  0.0519  0.0548  0.0842  0.0319  0.1158  0.0922  0.1027  0.0613  0.1465   \n",
            "8  0.0223  0.0375  0.0484  0.0475  0.0647  0.0591  0.0753  0.0098  0.0684   \n",
            "9  0.0164  0.0173  0.0347  0.0070  0.0187  0.0671  0.1056  0.0697  0.0962   \n",
            "\n",
            "      F10     F11     F12     F13     F14     F15     F16     F17     F18  \\\n",
            "0  0.2111  0.1609  0.1582  0.2238  0.0645  0.0660  0.2273  0.3100  0.2999   \n",
            "1  0.2872  0.4918  0.6552  0.6919  0.7797  0.7464  0.9444  1.0000  0.8874   \n",
            "2  0.6194  0.6333  0.7060  0.5544  0.5320  0.6479  0.6931  0.6759  0.7551   \n",
            "3  0.1264  0.0881  0.1992  0.0184  0.2261  0.1729  0.2131  0.0693  0.2281   \n",
            "4  0.4459  0.4152  0.3952  0.4256  0.4135  0.4528  0.5326  0.7306  0.6193   \n",
            "5  0.3039  0.2988  0.4250  0.6343  0.8198  1.0000  0.9988  0.9508  0.9025   \n",
            "6  0.3513  0.1786  0.0658  0.0513  0.3752  0.5419  0.5440  0.5150  0.4262   \n",
            "7  0.2838  0.2802  0.3086  0.2657  0.3801  0.5626  0.4376  0.2617  0.1199   \n",
            "8  0.1487  0.1156  0.1654  0.3833  0.3598  0.1713  0.1136  0.0349  0.3796   \n",
            "9  0.0251  0.0801  0.1056  0.1266  0.0890  0.0198  0.1133  0.2826  0.3234   \n",
            "\n",
            "      F19     F20     F21     F22     F23     F24     F25     F26     F27  \\\n",
            "0  0.5078  0.4797  0.5783  0.5071  0.4328  0.5550  0.6711  0.6415  0.7104   \n",
            "1  0.8024  0.7818  0.5212  0.4052  0.3957  0.3914  0.3250  0.3200  0.3271   \n",
            "2  0.8929  0.8619  0.7974  0.6737  0.4293  0.3648  0.5331  0.2413  0.5070   \n",
            "3  0.4060  0.3973  0.2741  0.3690  0.5556  0.4846  0.3140  0.5334  0.5256   \n",
            "4  0.2032  0.4636  0.4148  0.4292  0.5730  0.5399  0.3161  0.2285  0.6995   \n",
            "5  0.7234  0.5122  0.2074  0.3985  0.5890  0.2872  0.2043  0.5782  0.5389   \n",
            "6  0.2024  0.4233  0.7723  0.9735  0.9390  0.5559  0.5268  0.6826  0.5713   \n",
            "7  0.6676  0.9402  0.7832  0.5352  0.6809  0.9174  0.7613  0.8220  0.8872   \n",
            "8  0.7401  0.9925  0.9802  0.8890  0.6712  0.4286  0.3374  0.7366  0.9611   \n",
            "9  0.3238  0.4333  0.6068  0.7652  0.9203  0.9719  0.9207  0.7545  0.8289   \n",
            "\n",
            "      F28     F29     F30     F31     F32     F33     F34     F35     F36  \\\n",
            "0  0.8080  0.6791  0.3857  0.1307  0.2604  0.5121  0.7547  0.8537  0.8507   \n",
            "1  0.2767  0.4423  0.2028  0.3788  0.2947  0.1984  0.2341  0.1306  0.4182   \n",
            "2  0.8533  0.6036  0.8514  0.8512  0.5045  0.1862  0.2709  0.4232  0.3043   \n",
            "3  0.2520  0.2090  0.3559  0.6260  0.7340  0.6120  0.3497  0.3953  0.3012   \n",
            "4  1.0000  0.7262  0.4724  0.5103  0.5459  0.2881  0.0981  0.1951  0.4181   \n",
            "5  0.3750  0.3411  0.5067  0.5580  0.4778  0.3299  0.2198  0.1407  0.2856   \n",
            "6  0.5429  0.2177  0.2149  0.5811  0.6323  0.2965  0.1873  0.2969  0.5163   \n",
            "7  0.6091  0.2967  0.1103  0.1318  0.0624  0.0990  0.4006  0.3666  0.1050   \n",
            "8  0.7353  0.4856  0.1594  0.3007  0.4096  0.3170  0.3305  0.3408  0.2186   \n",
            "9  0.8907  0.7309  0.6896  0.5829  0.4935  0.3101  0.0306  0.0244  0.1108   \n",
            "\n",
            "      F37     F38     F39     F40     F41     F42     F43     F44     F45  \\\n",
            "0  0.6692  0.6097  0.4943  0.2744  0.0510  0.2834  0.2825  0.4256  0.2641   \n",
            "1  0.3835  0.1057  0.1840  0.1970  0.1674  0.0583  0.1401  0.1628  0.0621   \n",
            "2  0.6116  0.6756  0.5375  0.4719  0.4647  0.2587  0.2129  0.2222  0.2111   \n",
            "3  0.5408  0.8814  0.9857  0.9167  0.6121  0.5006  0.3210  0.3202  0.4295   \n",
            "4  0.4604  0.3217  0.2828  0.2430  0.1979  0.2444  0.1847  0.0841  0.0692   \n",
            "5  0.3807  0.4158  0.4054  0.3296  0.2707  0.2650  0.0723  0.1238  0.1192   \n",
            "6  0.6153  0.4283  0.5479  0.6133  0.5017  0.2377  0.1957  0.1749  0.1304   \n",
            "7  0.1915  0.3930  0.4288  0.2546  0.1151  0.2196  0.1879  0.1437  0.2146   \n",
            "8  0.2463  0.2726  0.1680  0.2792  0.2558  0.1740  0.2121  0.1099  0.0985   \n",
            "9  0.1594  0.1371  0.0696  0.0452  0.0620  0.1421  0.1597  0.1384  0.0372   \n",
            "\n",
            "      F46     F47     F48     F49     F50     F51     F52     F53     F54  \\\n",
            "0  0.1386  0.1051  0.1343  0.0383  0.0324  0.0232  0.0027  0.0065  0.0159   \n",
            "1  0.0203  0.0530  0.0742  0.0409  0.0061  0.0125  0.0084  0.0089  0.0048   \n",
            "2  0.0176  0.1348  0.0744  0.0130  0.0106  0.0033  0.0232  0.0166  0.0095   \n",
            "3  0.3654  0.2655  0.1576  0.0681  0.0294  0.0241  0.0121  0.0036  0.0150   \n",
            "4  0.0528  0.0357  0.0085  0.0230  0.0046  0.0156  0.0031  0.0054  0.0105   \n",
            "5  0.1089  0.0623  0.0494  0.0264  0.0081  0.0104  0.0045  0.0014  0.0038   \n",
            "6  0.0597  0.1124  0.1047  0.0507  0.0159  0.0195  0.0201  0.0248  0.0131   \n",
            "7  0.2360  0.1125  0.0254  0.0285  0.0178  0.0052  0.0081  0.0120  0.0045   \n",
            "8  0.1271  0.1459  0.1164  0.0777  0.0439  0.0061  0.0145  0.0128  0.0145   \n",
            "9  0.0688  0.0867  0.0513  0.0092  0.0198  0.0118  0.0090  0.0223  0.0179   \n",
            "\n",
            "      F55     F56     F57     F58     F59     F60 OBJET  \n",
            "0  0.0072  0.0167  0.0180  0.0084  0.0090  0.0032     R  \n",
            "1  0.0094  0.0191  0.0140  0.0049  0.0052  0.0044     R  \n",
            "2  0.0180  0.0244  0.0316  0.0164  0.0095  0.0078     R  \n",
            "3  0.0085  0.0073  0.0050  0.0044  0.0040  0.0117     R  \n",
            "4  0.0110  0.0015  0.0072  0.0048  0.0107  0.0094     R  \n",
            "5  0.0013  0.0089  0.0057  0.0027  0.0051  0.0062     R  \n",
            "6  0.0070  0.0138  0.0092  0.0143  0.0036  0.0103     R  \n",
            "7  0.0121  0.0097  0.0085  0.0047  0.0048  0.0053     R  \n",
            "8  0.0058  0.0049  0.0065  0.0093  0.0059  0.0022     R  \n",
            "9  0.0084  0.0068  0.0032  0.0035  0.0056  0.0040     R  \n"
          ]
        }
      ]
    },
    {
      "cell_type": "code",
      "source": [
        "# Transformation de la feature objet en int\n",
        "observations['OBJET'] = (observations['OBJET'] == 'M').astype(int)"
      ],
      "metadata": {
        "id": "_IdrrzLog1U1"
      },
      "execution_count": null,
      "outputs": []
    },
    {
      "cell_type": "code",
      "source": [
        "print(observations.info())"
      ],
      "metadata": {
        "colab": {
          "base_uri": "https://localhost:8080/"
        },
        "id": "AXFtXW_SkIIx",
        "outputId": "dfa142fe-c931-48bd-96f9-78defde7fee3"
      },
      "execution_count": null,
      "outputs": [
        {
          "output_type": "stream",
          "name": "stdout",
          "text": [
            "<class 'pandas.core.frame.DataFrame'>\n",
            "RangeIndex: 208 entries, 0 to 207\n",
            "Data columns (total 61 columns):\n",
            " #   Column  Non-Null Count  Dtype  \n",
            "---  ------  --------------  -----  \n",
            " 0   F1      208 non-null    float64\n",
            " 1   F2      208 non-null    float64\n",
            " 2   F3      208 non-null    float64\n",
            " 3   F4      208 non-null    float64\n",
            " 4   F5      208 non-null    float64\n",
            " 5   F6      208 non-null    float64\n",
            " 6   F7      208 non-null    float64\n",
            " 7   F8      208 non-null    float64\n",
            " 8   F9      208 non-null    float64\n",
            " 9   F10     208 non-null    float64\n",
            " 10  F11     208 non-null    float64\n",
            " 11  F12     208 non-null    float64\n",
            " 12  F13     208 non-null    float64\n",
            " 13  F14     208 non-null    float64\n",
            " 14  F15     208 non-null    float64\n",
            " 15  F16     208 non-null    float64\n",
            " 16  F17     208 non-null    float64\n",
            " 17  F18     208 non-null    float64\n",
            " 18  F19     208 non-null    float64\n",
            " 19  F20     208 non-null    float64\n",
            " 20  F21     208 non-null    float64\n",
            " 21  F22     208 non-null    float64\n",
            " 22  F23     208 non-null    float64\n",
            " 23  F24     208 non-null    float64\n",
            " 24  F25     208 non-null    float64\n",
            " 25  F26     208 non-null    float64\n",
            " 26  F27     208 non-null    float64\n",
            " 27  F28     208 non-null    float64\n",
            " 28  F29     208 non-null    float64\n",
            " 29  F30     208 non-null    float64\n",
            " 30  F31     208 non-null    float64\n",
            " 31  F32     208 non-null    float64\n",
            " 32  F33     208 non-null    float64\n",
            " 33  F34     208 non-null    float64\n",
            " 34  F35     208 non-null    float64\n",
            " 35  F36     208 non-null    float64\n",
            " 36  F37     208 non-null    float64\n",
            " 37  F38     208 non-null    float64\n",
            " 38  F39     208 non-null    float64\n",
            " 39  F40     208 non-null    float64\n",
            " 40  F41     208 non-null    float64\n",
            " 41  F42     208 non-null    float64\n",
            " 42  F43     208 non-null    float64\n",
            " 43  F44     208 non-null    float64\n",
            " 44  F45     208 non-null    float64\n",
            " 45  F46     208 non-null    float64\n",
            " 46  F47     208 non-null    float64\n",
            " 47  F48     208 non-null    float64\n",
            " 48  F49     208 non-null    float64\n",
            " 49  F50     208 non-null    float64\n",
            " 50  F51     208 non-null    float64\n",
            " 51  F52     208 non-null    float64\n",
            " 52  F53     208 non-null    float64\n",
            " 53  F54     208 non-null    float64\n",
            " 54  F55     208 non-null    float64\n",
            " 55  F56     208 non-null    float64\n",
            " 56  F57     208 non-null    float64\n",
            " 57  F58     208 non-null    float64\n",
            " 58  F59     208 non-null    float64\n",
            " 59  F60     208 non-null    float64\n",
            " 60  OBJET   208 non-null    int64  \n",
            "dtypes: float64(60), int64(1)\n",
            "memory usage: 99.2 KB\n",
            "None\n"
          ]
        }
      ]
    },
    {
      "cell_type": "code",
      "source": [
        "print(observations.groupby(\"OBJET\").size())"
      ],
      "metadata": {
        "colab": {
          "base_uri": "https://localhost:8080/"
        },
        "id": "Xf4qqs_lkjWr",
        "outputId": "5a45f794-83a5-4132-a703-1132c37adf25"
      },
      "execution_count": null,
      "outputs": [
        {
          "output_type": "stream",
          "name": "stdout",
          "text": [
            "OBJET\n",
            "0     97\n",
            "1    111\n",
            "dtype: int64\n"
          ]
        }
      ]
    },
    {
      "cell_type": "code",
      "source": [
        "print(observations.describe())"
      ],
      "metadata": {
        "colab": {
          "base_uri": "https://localhost:8080/"
        },
        "id": "7PJWqrTAlONA",
        "outputId": "c3c7c18b-0762-4744-e223-ae16cae9ca3a"
      },
      "execution_count": null,
      "outputs": [
        {
          "output_type": "stream",
          "name": "stdout",
          "text": [
            "               F1          F2          F3          F4          F5          F6  \\\n",
            "count  208.000000  208.000000  208.000000  208.000000  208.000000  208.000000   \n",
            "mean     0.029164    0.038437    0.043832    0.053892    0.075202    0.104570   \n",
            "std      0.022991    0.032960    0.038428    0.046528    0.055552    0.059105   \n",
            "min      0.001500    0.000600    0.001500    0.005800    0.006700    0.010200   \n",
            "25%      0.013350    0.016450    0.018950    0.024375    0.038050    0.067025   \n",
            "50%      0.022800    0.030800    0.034300    0.044050    0.062500    0.092150   \n",
            "75%      0.035550    0.047950    0.057950    0.064500    0.100275    0.134125   \n",
            "max      0.137100    0.233900    0.305900    0.426400    0.401000    0.382300   \n",
            "\n",
            "               F7          F8          F9         F10         F11         F12  \\\n",
            "count  208.000000  208.000000  208.000000  208.000000  208.000000  208.000000   \n",
            "mean     0.121747    0.134799    0.178003    0.208259    0.236013    0.250221   \n",
            "std      0.061788    0.085152    0.118387    0.134416    0.132705    0.140072   \n",
            "min      0.003300    0.005500    0.007500    0.011300    0.028900    0.023600   \n",
            "25%      0.080900    0.080425    0.097025    0.111275    0.129250    0.133475   \n",
            "50%      0.106950    0.112100    0.152250    0.182400    0.224800    0.249050   \n",
            "75%      0.154000    0.169600    0.233425    0.268700    0.301650    0.331250   \n",
            "max      0.372900    0.459000    0.682800    0.710600    0.734200    0.706000   \n",
            "\n",
            "              F13         F14         F15         F16         F17         F18  \\\n",
            "count  208.000000  208.000000  208.000000  208.000000  208.000000  208.000000   \n",
            "mean     0.273305    0.296568    0.320201    0.378487    0.415983    0.452318   \n",
            "std      0.140962    0.164474    0.205427    0.232650    0.263677    0.261529   \n",
            "min      0.018400    0.027300    0.003100    0.016200    0.034900    0.037500   \n",
            "25%      0.166125    0.175175    0.164625    0.196300    0.205850    0.242075   \n",
            "50%      0.263950    0.281100    0.281700    0.304700    0.308400    0.368300   \n",
            "75%      0.351250    0.386175    0.452925    0.535725    0.659425    0.679050   \n",
            "max      0.713100    0.997000    1.000000    0.998800    1.000000    1.000000   \n",
            "\n",
            "              F19         F20         F21         F22         F23         F24  \\\n",
            "count  208.000000  208.000000  208.000000  208.000000  208.000000  208.000000   \n",
            "mean     0.504812    0.563047    0.609060    0.624275    0.646975    0.672654   \n",
            "std      0.257988    0.262653    0.257818    0.255883    0.250175    0.239116   \n",
            "min      0.049400    0.065600    0.051200    0.021900    0.056300    0.023900   \n",
            "25%      0.299075    0.350625    0.399725    0.406925    0.450225    0.540725   \n",
            "50%      0.434950    0.542500    0.617700    0.664900    0.699700    0.698500   \n",
            "75%      0.731400    0.809325    0.816975    0.831975    0.848575    0.872175   \n",
            "max      1.000000    1.000000    1.000000    1.000000    1.000000    1.000000   \n",
            "\n",
            "              F25         F26         F27         F28         F29         F30  \\\n",
            "count  208.000000  208.000000  208.000000  208.000000  208.000000  208.000000   \n",
            "mean     0.675424    0.699866    0.702155    0.694024    0.642074    0.580928   \n",
            "std      0.244926    0.237228    0.245657    0.237189    0.240250    0.220749   \n",
            "min      0.024000    0.092100    0.048100    0.028400    0.014400    0.061300   \n",
            "25%      0.525800    0.544175    0.531900    0.534775    0.463700    0.411400   \n",
            "50%      0.721100    0.754500    0.745600    0.731900    0.680800    0.607150   \n",
            "75%      0.873725    0.893800    0.917100    0.900275    0.852125    0.735175   \n",
            "max      1.000000    1.000000    1.000000    1.000000    1.000000    1.000000   \n",
            "\n",
            "              F31         F32         F33         F34         F35         F36  \\\n",
            "count  208.000000  208.000000  208.000000  208.000000  208.000000  208.000000   \n",
            "mean     0.504475    0.439040    0.417220    0.403233    0.392571    0.384848   \n",
            "std      0.213992    0.213237    0.206513    0.231242    0.259132    0.264121   \n",
            "min      0.048200    0.040400    0.047700    0.021200    0.022300    0.008000   \n",
            "25%      0.345550    0.281400    0.257875    0.217575    0.179375    0.154350   \n",
            "50%      0.490350    0.429600    0.391200    0.351050    0.312750    0.321150   \n",
            "75%      0.641950    0.580300    0.556125    0.596125    0.593350    0.556525   \n",
            "max      0.965700    0.930600    1.000000    0.964700    1.000000    1.000000   \n",
            "\n",
            "              F37         F38         F39         F40         F41         F42  \\\n",
            "count  208.000000  208.000000  208.000000  208.000000  208.000000  208.000000   \n",
            "mean     0.363807    0.339657    0.325800    0.311207    0.289252    0.278293   \n",
            "std      0.239912    0.212973    0.199075    0.178662    0.171111    0.168728   \n",
            "min      0.035100    0.038300    0.037100    0.011700    0.036000    0.005600   \n",
            "25%      0.160100    0.174275    0.173975    0.186450    0.163100    0.158900   \n",
            "50%      0.306300    0.312700    0.283500    0.278050    0.259500    0.245100   \n",
            "75%      0.518900    0.440550    0.434900    0.424350    0.387525    0.384250   \n",
            "max      0.949700    1.000000    0.985700    0.929700    0.899500    0.824600   \n",
            "\n",
            "              F43         F44         F45         F46         F47         F48  \\\n",
            "count  208.000000  208.000000  208.000000  208.000000  208.000000  208.000000   \n",
            "mean     0.246542    0.214075    0.197232    0.160631    0.122453    0.091424   \n",
            "std      0.138993    0.133291    0.151628    0.133938    0.086953    0.062417   \n",
            "min      0.000000    0.000000    0.000000    0.000000    0.000000    0.000000   \n",
            "25%      0.155200    0.126875    0.094475    0.068550    0.064250    0.045125   \n",
            "50%      0.222550    0.177700    0.148000    0.121350    0.101650    0.078100   \n",
            "75%      0.324525    0.271750    0.231550    0.200375    0.154425    0.120100   \n",
            "max      0.773300    0.776200    0.703400    0.729200    0.552200    0.333900   \n",
            "\n",
            "              F49         F50         F51         F52         F53         F54  \\\n",
            "count  208.000000  208.000000  208.000000  208.000000  208.000000  208.000000   \n",
            "mean     0.051929    0.020424    0.016069    0.013420    0.010709    0.010941   \n",
            "std      0.035954    0.013665    0.012008    0.009634    0.007060    0.007301   \n",
            "min      0.000000    0.000000    0.000000    0.000800    0.000500    0.001000   \n",
            "25%      0.026350    0.011550    0.008425    0.007275    0.005075    0.005375   \n",
            "50%      0.044700    0.017900    0.013900    0.011400    0.009550    0.009300   \n",
            "75%      0.068525    0.025275    0.020825    0.016725    0.014900    0.014500   \n",
            "max      0.198100    0.082500    0.100400    0.070900    0.039000    0.035200   \n",
            "\n",
            "              F55         F56         F57         F58         F59         F60  \\\n",
            "count  208.000000  208.000000  208.000000  208.000000  208.000000  208.000000   \n",
            "mean     0.009290    0.008222    0.007820    0.007949    0.007941    0.006507   \n",
            "std      0.007088    0.005736    0.005785    0.006470    0.006181    0.005031   \n",
            "min      0.000600    0.000400    0.000300    0.000300    0.000100    0.000600   \n",
            "25%      0.004150    0.004400    0.003700    0.003600    0.003675    0.003100   \n",
            "50%      0.007500    0.006850    0.005950    0.005800    0.006400    0.005300   \n",
            "75%      0.012100    0.010575    0.010425    0.010350    0.010325    0.008525   \n",
            "max      0.044700    0.039400    0.035500    0.044000    0.036400    0.043900   \n",
            "\n",
            "            OBJET  \n",
            "count  208.000000  \n",
            "mean     0.533654  \n",
            "std      0.500070  \n",
            "min      0.000000  \n",
            "25%      0.000000  \n",
            "50%      1.000000  \n",
            "75%      1.000000  \n",
            "max      1.000000  \n"
          ]
        }
      ]
    },
    {
      "cell_type": "code",
      "source": [
        "from matplotlib import pyplot as plt\n",
        "#Création du graphique boîtes à moustaches\n",
        "#XTicks [] permet de ne pas afficher les libellés des différentesfréquences : \"F1 , F2 .... \"\n",
        "observations.plot.box(figsize=(20 , 10) , xticks=[])\n",
        "#Information concernant le graphique\n",
        "plt.title('Détection des valeurs extrêmes')\n",
        "plt.xlabel('Les 60 Frequences')\n",
        "plt.ylabel('Puissance du signal')\n",
        "plt.show()"
      ],
      "metadata": {
        "colab": {
          "base_uri": "https://localhost:8080/",
          "height": 573
        },
        "id": "Rm3OQ36RltMT",
        "outputId": "5432fc9f-cc72-4421-fa66-0c904cfbfb80"
      },
      "execution_count": null,
      "outputs": [
        {
          "output_type": "display_data",
          "data": {
            "text/plain": [
              "<Figure size 2000x1000 with 1 Axes>"
            ],
            "image/png": "[encoded data removed]"
          },
          "metadata": {}
        }
      ]
    },
    {
      "cell_type": "code",
      "source": [
        "from sklearn.model_selection import train_test_split\n",
        "array = observations.values\n",
        "#Convertion des données en type decimal\n",
        "X= array[:,0:- 1].astype(float)\n",
        "#On choisit la dernière colonne comme feature de prédiction\n",
        "Y= array[:,- 1]\n",
        "#Création des jeux d'apprentissage et de tests\n",
        "percentage_donnees_test = 0.2\n",
        "X_APPRENTISSAGE , X_VALIDATION , Y_APPRENTISSAGE , Y_VALIDATION = train_test_split(X , Y, test_size = percentage_donnees_test ,\n",
        "random_state=42)"
      ],
      "metadata": {
        "id": "gGBK2AiVo6Am"
      },
      "execution_count": null,
      "outputs": []
    },
    {
      "cell_type": "code",
      "source": [
        "Apprentissage = [ [1] , [ 2 ] , [3] , [4]]\n",
        "Validation = [ [10] , [11] , [ 12] , [13]]\n",
        "print(\" Apprentissage= \" +str(Apprentissage))\n",
        "print( \" Validation= \" +str(Validation))\n",
        "print( \" Sans random_state : \" )\n",
        "print(train_test_split(Apprentissage,Validation,test_size=0.2))\n",
        "print( \" Sans random_state : \" )\n",
        "print(train_test_split(Apprentissage , Validation , test_size=0.2))\n",
        "print( \" Avec random_state : \" )\n",
        "print(train_test_split(Apprentissage , Validation , test_size=0.2 ,\n",
        "random_state=42))\n",
        "print( \" Avec random_state : \" )\n",
        "print(train_test_split(Apprentissage , Validation , test_size=0.2 ,\n",
        "random_state=42))"
      ],
      "metadata": {
        "colab": {
          "base_uri": "https://localhost:8080/"
        },
        "id": "gaj3wlwLsJLA",
        "outputId": "1d5f57cf-86ea-4eea-8407-1a1d7c6f77e8"
      },
      "execution_count": null,
      "outputs": [
        {
          "output_type": "stream",
          "name": "stdout",
          "text": [
            " Apprentissage= [[1], [2], [3], [4]]\n",
            " Validation= [[10], [11], [12], [13]]\n",
            " Sans random_state : \n",
            "[[[3], [1], [2]], [[4]], [[12], [10], [11]], [[13]]]\n",
            " Sans random_state : \n",
            "[[[2], [3], [4]], [[1]], [[11], [12], [13]], [[10]]]\n",
            " Avec random_state : \n",
            "[[[4], [1], [3]], [[2]], [[13], [10], [12]], [[11]]]\n",
            " Avec random_state : \n",
            "[[[4], [1], [3]], [[2]], [[13], [10], [12]], [[11]]]\n"
          ]
        }
      ]
    },
    {
      "cell_type": "code",
      "source": [
        "#Import des algorithmes de type classifier (classification)\n",
        "from sklearn.linear_model import LogisticRegression\n",
        "from sklearn.metrics import accuracy_score\n",
        "from sklearn.tree import DecisionTreeClassifier\n",
        "from sklearn.neighbors import KNeighborsClassifier\n",
        "from sklearn.ensemble import RandomForestClassifier\n",
        "from sklearn.svm import SVC"
      ],
      "metadata": {
        "id": "g9TMumYNtJ9r"
      },
      "execution_count": null,
      "outputs": []
    },
    {
      "cell_type": "code",
      "source": [
        "#REGRESSION LOGISTIQUE\n",
        "regression_logistique = LogisticRegression()\n",
        "regression_logistique.fit(X_APPRENTISSAGE , Y_APPRENTISSAGE)\n",
        "predictions = regression_logistique.predict(X_VALIDATION)\n",
        "print(\"Logistic Regression Accuracy: \" + str(accuracy_score(predictions, Y_VALIDATION)))"
      ],
      "metadata": {
        "colab": {
          "base_uri": "https://localhost:8080/"
        },
        "id": "BmlMvbnWwPNd",
        "outputId": "486384c6-e9eb-4aed-c96a-5965693ace62"
      },
      "execution_count": null,
      "outputs": [
        {
          "output_type": "stream",
          "name": "stdout",
          "text": [
            "Logistic Regression Accuracy: 0.7857142857142857\n"
          ]
        }
      ]
    },
    {
      "cell_type": "code",
      "source": [
        "#ARBRE DE DECISION\n",
        "arbre_decision = DecisionTreeClassifier()\n",
        "arbre_decision.fit(X_APPRENTISSAGE , Y_APPRENTISSAGE)\n",
        "predictions= arbre_decision . predict(X_VALIDATION)\n",
        "print( \" Arbre de décision: \" +str(accuracy_score(predictions,\n",
        "Y_VALIDATION)))"
      ],
      "metadata": {
        "colab": {
          "base_uri": "https://localhost:8080/"
        },
        "id": "zZ0aqamqynCG",
        "outputId": "8617e61e-cbc1-445a-99c2-5b4ce4b9c3cc"
      },
      "execution_count": null,
      "outputs": [
        {
          "output_type": "stream",
          "name": "stdout",
          "text": [
            " Arbre de décision: 0.6428571428571429\n"
          ]
        }
      ]
    },
    {
      "cell_type": "code",
      "source": [
        "#FORETS ALEATOIRES\n",
        "foret_aleatoire = RandomForestClassifier()\n",
        "foret_aleatoire.fit(X_APPRENTISSAGE , Y_APPRENTISSAGE)\n",
        "predictions = foret_aleatoire.predict(X_VALIDATION)\n",
        "print(\" Foret aléatoire : \" +str(accuracy_score(predictions ,Y_VALIDATION)))"
      ],
      "metadata": {
        "colab": {
          "base_uri": "https://localhost:8080/"
        },
        "id": "NBVoA4e8yrlq",
        "outputId": "3f6c5e4a-9d0f-4f0e-d55f-dc44e5800248"
      },
      "execution_count": null,
      "outputs": [
        {
          "output_type": "stream",
          "name": "stdout",
          "text": [
            " Foret aléatoire : 0.7857142857142857\n"
          ]
        }
      ]
    },
    {
      "cell_type": "code",
      "source": [
        "#K PLUS PROCHES VOISINS\n",
        "knn = KNeighborsClassifier()\n",
        "knn.fit(X_APPRENTISSAGE , Y_APPRENTISSAGE)\n",
        "predictions = knn.predict(X_VALIDATION)\n",
        "print(\" K plus proches voisins : \" +str (accuracy_score (predictions ,Y_VALIDATION)))"
      ],
      "metadata": {
        "colab": {
          "base_uri": "https://localhost:8080/"
        },
        "id": "3GtPxqD3yvVr",
        "outputId": "d1a16128-5b59-4436-ee15-efc1993ce5bd"
      },
      "execution_count": null,
      "outputs": [
        {
          "output_type": "stream",
          "name": "stdout",
          "text": [
            " K plus proches voisins : 0.8571428571428571\n"
          ]
        }
      ]
    },
    {
      "cell_type": "code",
      "source": [
        "#MACHINE VECTEURS DE SUPPORTS\n",
        "SVM = SVC(gamma='auto')\n",
        "SVM.fit(X_APPRENTISSAGE , Y_APPRENTISSAGE)\n",
        "predictions = SVM.predict(X_VALIDATION)\n",
        "print(\" Machine vecteurs de supports :\" +str(accuracy_score(predictions , Y_VALIDATION) ))"
      ],
      "metadata": {
        "colab": {
          "base_uri": "https://localhost:8080/"
        },
        "id": "lXHPvU-_yz4T",
        "outputId": "5823b9f8-030c-42da-9b84-95376a4ff8fe"
      },
      "execution_count": null,
      "outputs": [
        {
          "output_type": "stream",
          "name": "stdout",
          "text": [
            " Machine vecteurs de supports :0.8333333333333334\n"
          ]
        }
      ]
    },
    {
      "cell_type": "code",
      "source": [
        "# Optimisation\n",
        "from sklearn.model_selection import GridSearchCV\n",
        "#Définition d'une plage de valeurs à tester\n",
        "penalite = [{'C': range(1, 100)}]\n",
        "#Tests avec 5 échantillons de Validation Croisée\n",
        "recherche_optimisations = GridSearchCV(SVC(), penalite , cv=5)\n",
        "recherche_optimisations.fit(X_APPRENTISSAGE , Y_APPRENTISSAGE)\n",
        "print(\"Le meilleur paramètre est :\" )\n",
        "print()\n",
        "print(recherche_optimisations.best_params_)\n",
        "print()"
      ],
      "metadata": {
        "colab": {
          "base_uri": "https://localhost:8080/"
        },
        "id": "3WYwb8DaGtkG",
        "outputId": "eaa5264e-12b0-4ed7-9431-bf27bc0487e1"
      },
      "execution_count": null,
      "outputs": [
        {
          "output_type": "stream",
          "name": "stdout",
          "text": [
            "Le meilleur paramètre est :\n",
            "\n",
            "{'C': 35}\n",
            "\n"
          ]
        },
        {
          "output_type": "stream",
          "name": "stderr",
          "text": [
            "/usr/local/lib/python3.10/dist-packages/numpy/ma/core.py:2820: RuntimeWarning: invalid value encountered in cast\n",
            "  _data = np.array(data, dtype=dtype, copy=copy,\n"
          ]
        }
      ]
    },
    {
      "cell_type": "code",
      "source": [
        "#MACHINE VECTEURS DE SUPPORTS OPTIMISEE\n",
        "SVM = SVC(C = 65, gamma = 'auto')\n",
        "SVM.fit(X_APPRENTISSAGE , Y_APPRENTISSAGE)\n",
        "predictions = SVM.predict(X_VALIDATION)\n",
        "print(\" Machine à vecteurs de supports optimisée : \"+ str(accuracy_score(predictions , Y_VALIDATION)))"
      ],
      "metadata": {
        "colab": {
          "base_uri": "https://localhost:8080/"
        },
        "id": "fwD31BlbJRQn",
        "outputId": "ffcf7624-7242-4a5f-be19-bf00d6ad4666"
      },
      "execution_count": null,
      "outputs": [
        {
          "output_type": "stream",
          "name": "stdout",
          "text": [
            " Machine à vecteurs de supports optimisée : 0.8809523809523809\n"
          ]
        }
      ]
    },
    {
      "cell_type": "code",
      "source": [
        "#GRADIENT BOOSTING\n",
        "from sklearn.ensemble import GradientBoostingClassifier\n",
        "gradientBoosting = GradientBoostingClassifier()\n",
        "gradientBoosting.fit(X_APPRENTISSAGE, Y_APPRENTISSAGE)\n",
        "predictions = SVM.predict(X_VALIDATION)\n",
        "print(\" GRADIENT BOOSTING : \" +str(accuracy_score(predictions, Y_VALIDATION)))"
      ],
      "metadata": {
        "colab": {
          "base_uri": "https://localhost:8080/"
        },
        "id": "OsTt9_qZKjZH",
        "outputId": "c001601a-7204-490e-8b8d-edf46b21a0a2"
      },
      "execution_count": null,
      "outputs": [
        {
          "output_type": "stream",
          "name": "stdout",
          "text": [
            " GRADIENT BOOSTING : 0.8809523809523809\n"
          ]
        }
      ]
    }
  ]
}