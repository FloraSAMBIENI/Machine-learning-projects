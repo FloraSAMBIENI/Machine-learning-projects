{
  "nbformat": 4,
  "nbformat_minor": 0,
  "metadata": {
    "colab": {
      "provenance": []
    },
    "kernelspec": {
      "name": "python3",
      "display_name": "Python 3"
    },
    "language_info": {
      "name": "python"
    }
  },
  "cells": [
    {
      "cell_type": "code",
      "execution_count": null,
      "metadata": {
        "id": "UaFbterDwgcH"
      },
      "outputs": [],
      "source": [
        "import pandas as pnd"
      ]
    },
    {
      "cell_type": "code",
      "source": [
        "messagesTwitter = pnd.read_csv(\"/content/data/rechauffementClimatique.csv\", delimiter= \";\")\n",
        "print(messagesTwitter.shape)\n",
        "print(messagesTwitter.head(2))"
      ],
      "metadata": {
        "colab": {
          "base_uri": "https://localhost:8080/"
        },
        "id": "rQru1mdvwtzt",
        "outputId": "c231b84b-311c-4c14-a05a-a3e399a89fc1"
      },
      "execution_count": null,
      "outputs": [
        {
          "output_type": "stream",
          "name": "stdout",
          "text": [
            "(4225, 3)\n",
            "                                               TWEET CROYANCE  CONFIENCE\n",
            "0  Global warming report urges governments to act...      Yes        1.0\n",
            "1  Fighting poverty and global warming in Africa ...      Yes        1.0\n"
          ]
        }
      ]
    },
    {
      "cell_type": "code",
      "source": [
        "messagesTwitter['CROYANCE'] = (messagesTwitter['CROYANCE']=='Yes').astype(int)\n",
        "print(messagesTwitter.head(100))"
      ],
      "metadata": {
        "colab": {
          "base_uri": "https://localhost:8080/"
        },
        "id": "4gxmLK82xmp9",
        "outputId": "9efc33a5-f93d-4bf6-82fc-e568425a3fa9"
      },
      "execution_count": null,
      "outputs": [
        {
          "output_type": "stream",
          "name": "stdout",
          "text": [
            "                                                TWEET  CROYANCE  CONFIENCE\n",
            "0   Global warming report urges governments to act...         1     1.0000\n",
            "1   Fighting poverty and global warming in Africa ...         1     1.0000\n",
            "2   Carbon offsets: How a Vatican forest failed to...         1     0.8786\n",
            "3   Carbon offsets: How a Vatican forest failed to...         1     1.0000\n",
            "4   URUGUAY: Tools Needed for Those Most Vulnerabl...         1     0.8087\n",
            "..                                                ...       ...        ...\n",
            "95  Report: Save the Whales and They'll Save Us fr...         1     0.8230\n",
            "96  Arctic Beauty in Black and White: Alaska Befor...         1     1.0000\n",
            "97  #EPA report documents \"very real\" impacts from...         1     1.0000\n",
            "98  #Canadian #CEOs more keen on #green than globa...         1     0.7896\n",
            "99  RT @carbonmarket: Ask the G8 & G20 to support ...         1     0.6170\n",
            "\n",
            "[100 rows x 3 columns]\n"
          ]
        }
      ]
    },
    {
      "cell_type": "code",
      "source": [
        "# Fonction de normalisation\n",
        "import re\n",
        "\n",
        "def normalisation(message):\n",
        "    # Remplace les URLs par 'URL'\n",
        "    message = re.sub(r'(www\\.[^\\s]+)|(https?://[^\\s]+)', 'URL', message)\n",
        "\n",
        "    # Remplace les mentions par 'USER'\n",
        "    message = re.sub(r'@[^\\s]+', 'USER', message)\n",
        "\n",
        "    # Convertit en minuscules et remplace \"ë\" par \"e\"\n",
        "    message = message.lower().replace(\"ë\", \"e\")\n",
        "\n",
        "    # Supprime les caractères non alphanumériques, sauf les espaces\n",
        "    message = re.sub(r'[^a-zA-Z0-9\\s]+', ' ', message)\n",
        "\n",
        "    # Remplace plusieurs espaces par un seul\n",
        "    message = re.sub(r'\\s+', ' ', message)\n",
        "\n",
        "    return message.strip()\n"
      ],
      "metadata": {
        "id": "nHUKJlway76U"
      },
      "execution_count": null,
      "outputs": []
    },
    {
      "cell_type": "code",
      "source": [
        "messagesTwitter[\"TWEET\"] = messagesTwitter[\"TWEET\"].apply(normalisation)\n",
        "print(messagesTwitter.head(10))"
      ],
      "metadata": {
        "colab": {
          "base_uri": "https://localhost:8080/"
        },
        "id": "_5o0k-2w0TCj",
        "outputId": "4d19296d-36cb-4967-d207-2c15b11614ac"
      },
      "execution_count": null,
      "outputs": [
        {
          "output_type": "stream",
          "name": "stdout",
          "text": [
            "                                               TWEET  CROYANCE  CONFIENCE\n",
            "0  global warming report urges governments to act...         1     1.0000\n",
            "1  fighting poverty and global warming in africa ...         1     1.0000\n",
            "2  carbon offsets how a vatican forest failed to ...         1     0.8786\n",
            "3  carbon offsets how a vatican forest failed to ...         1     1.0000\n",
            "4  uruguay tools needed for those most vulnerable...         1     0.8087\n",
            "5  rt user rt user ocean saltiness shows global w...         1     1.0000\n",
            "6  global warming evidence all around us a messag...         1     1.0000\n",
            "7  migratory birds new climate change strategy st...         1     1.0000\n",
            "8  southern africa competing for limpopo water cl...         1     1.0000\n",
            "9  global warming to impact wheat rice production...         1     1.0000\n"
          ]
        }
      ]
    },
    {
      "cell_type": "code",
      "source": [
        "# Stop words\n",
        "import nltk\n",
        "nltk.download('stopwords')\n",
        "from nltk.corpus import stopwords\n",
        "stopWords = set(stopwords.words('english'))"
      ],
      "metadata": {
        "colab": {
          "base_uri": "https://localhost:8080/"
        },
        "id": "hEqRhyA54FS4",
        "outputId": "1603ecd7-19a1-49b3-e419-ad9cb964933b"
      },
      "execution_count": null,
      "outputs": [
        {
          "output_type": "stream",
          "name": "stderr",
          "text": [
            "[nltk_data] Downloading package stopwords to /root/nltk_data...\n",
            "[nltk_data]   Unzipping corpora/stopwords.zip.\n"
          ]
        }
      ]
    },
    {
      "cell_type": "code",
      "source": [
        "messagesTwitter['TWEET'] = messagesTwitter['TWEET'].apply(lambda message: ' '.join([mot for mot in message.split() if mot not in stopWords]))\n",
        "print(messagesTwitter.head(10))\n"
      ],
      "metadata": {
        "colab": {
          "base_uri": "https://localhost:8080/"
        },
        "id": "lvqiu7je4z7v",
        "outputId": "a7327906-d581-45eb-fd84-94c5be96ddd2"
      },
      "execution_count": null,
      "outputs": [
        {
          "output_type": "stream",
          "name": "stdout",
          "text": [
            "                                               TWEET  CROYANCE  CONFIENCE\n",
            "0  global warming report urges governments act br...         1     1.0000\n",
            "1        fighting poverty global warming africa link         1     1.0000\n",
            "2  carbon offsets vatican forest failed reduce gl...         1     0.8786\n",
            "3  carbon offsets vatican forest failed reduce gl...         1     1.0000\n",
            "4  uruguay tools needed vulnerable climate change...         1     0.8087\n",
            "5  rt user rt user ocean saltiness shows global w...         1     1.0000\n",
            "6  global warming evidence around us message glob...         1     1.0000\n",
            "7  migratory birds new climate change strategy st...         1     1.0000\n",
            "8  southern africa competing limpopo water climat...         1     1.0000\n",
            "9  global warming impact wheat rice production in...         1     1.0000\n"
          ]
        }
      ]
    },
    {
      "cell_type": "code",
      "source": [
        "# Stemmisation\n",
        "from nltk.stem.snowball import SnowballStemmer\n",
        "\n",
        "# Initialisation du stemmer pour la langue anglaise\n",
        "stemmer = SnowballStemmer('english')\n",
        "\n",
        "# Application du stemming sur les tweets\n",
        "messagesTwitter['TWEET'] = messagesTwitter['TWEET'].apply(lambda message: ' '.join([stemmer.stem(mot) for mot in message.split()]))\n",
        "\n",
        "# Affichage des 10 premières lignes\n",
        "print(messagesTwitter.head(10))\n"
      ],
      "metadata": {
        "colab": {
          "base_uri": "https://localhost:8080/"
        },
        "id": "n3kGfHm36jR0",
        "outputId": "503c58ec-3773-4591-a4ce-8a7e72af1afa"
      },
      "execution_count": null,
      "outputs": [
        {
          "output_type": "stream",
          "name": "stdout",
          "text": [
            "                                               TWEET  CROYANCE  CONFIENCE\n",
            "0  global warm report urg govern act brussel belg...         1     1.0000\n",
            "1              fight poverti global warm africa link         1     1.0000\n",
            "2  carbon offset vatican forest fail reduc global...         1     0.8786\n",
            "3  carbon offset vatican forest fail reduc global...         1     1.0000\n",
            "4         uruguay tool need vulner climat chang link         1     0.8087\n",
            "5  rt user rt user ocean salti show global warm i...         1     1.0000\n",
            "6  global warm evid around us messag global warm ...         1     1.0000\n",
            "7  migratori bird new climat chang strategi stay ...         1     1.0000\n",
            "8  southern africa compet limpopo water climat ch...         1     1.0000\n",
            "9  global warm impact wheat rice product india lu...         1     1.0000\n"
          ]
        }
      ]
    },
    {
      "cell_type": "code",
      "source": [
        "# lemmatisation\n",
        "import nltk\n",
        "from nltk.stem import WordNetLemmatizer\n",
        "\n",
        "# Téléchargement de WordNet\n",
        "nltk.download('wordnet')\n",
        "nltk.download('omw-1.4')\n",
        "\n",
        "# Initialisation du lemmatizer\n",
        "lemmatizer = WordNetLemmatizer()\n",
        "\n",
        "# Application de la lemmatisation sur les tweets\n",
        "messagesTwitter['TWEET'] = messagesTwitter['TWEET'].apply(lambda message: ' '.join([lemmatizer.lemmatize(mot) for mot in message.split()]))\n",
        "\n",
        "# Affichage des 10 premières lignes\n",
        "print(messagesTwitter.head(10))\n",
        "\n"
      ],
      "metadata": {
        "colab": {
          "base_uri": "https://localhost:8080/"
        },
        "id": "FMBkNdSO7NyO",
        "outputId": "33825fcf-e6ef-4d57-f417-71f931b9b104"
      },
      "execution_count": null,
      "outputs": [
        {
          "output_type": "stream",
          "name": "stderr",
          "text": [
            "[nltk_data] Downloading package wordnet to /root/nltk_data...\n",
            "[nltk_data] Downloading package omw-1.4 to /root/nltk_data...\n"
          ]
        },
        {
          "output_type": "stream",
          "name": "stdout",
          "text": [
            "                                               TWEET  CROYANCE  CONFIENCE\n",
            "0  global warm report urg govern act brussel belg...         1     1.0000\n",
            "1              fight poverti global warm africa link         1     1.0000\n",
            "2  carbon offset vatican forest fail reduc global...         1     0.8786\n",
            "3  carbon offset vatican forest fail reduc global...         1     1.0000\n",
            "4         uruguay tool need vulner climat chang link         1     0.8087\n",
            "5  rt user rt user ocean salti show global warm i...         1     1.0000\n",
            "6  global warm evid around u messag global warm d...         1     1.0000\n",
            "7  migratori bird new climat chang strategi stay ...         1     1.0000\n",
            "8  southern africa compet limpopo water climat ch...         1     1.0000\n",
            "9  global warm impact wheat rice product india lu...         1     1.0000\n"
          ]
        }
      ]
    },
    {
      "cell_type": "code",
      "source": [
        "# Apprentissage\n",
        "from sklearn.model_selection import train_test_split\n",
        "\n",
        "X_train, X_test, y_train, y_test = train_test_split(\n",
        "    messagesTwitter['TWEET'].values,\n",
        "    messagesTwitter['CROYANCE'].values,\n",
        "    test_size=0.2\n",
        ")\n"
      ],
      "metadata": {
        "id": "CxYF22U_8Hqj"
      },
      "execution_count": null,
      "outputs": []
    },
    {
      "cell_type": "code",
      "source": [
        "from sklearn.pipeline import Pipeline\n",
        "from sklearn.feature_extraction.text import CountVectorizer\n",
        "from sklearn.feature_extraction.text import TfidfTransformer\n",
        "from sklearn.naive_bayes import MultinomialNB\n",
        "\n",
        "# Création du pipeline\n",
        "etapes_apprentissage = Pipeline([\n",
        "    ('frequence', CountVectorizer()),            # Étape 1 : Conversion du texte en vecteurs de fréquence\n",
        "    ('tfidf', TfidfTransformer()),               # Étape 2 : Transformation en valeurs TF-IDF\n",
        "    ('algorithme', MultinomialNB())              # Étape 3 : Application de l'algorithme Naive Bayes\n",
        "])\n"
      ],
      "metadata": {
        "id": "IQQF4Vgw8nqr"
      },
      "execution_count": null,
      "outputs": []
    },
    {
      "cell_type": "code",
      "source": [
        "# Entraînement du modèle avec le pipeline\n",
        "modele = etapes_apprentissage.fit(X_train, y_train)\n",
        "\n",
        "# Importation de la fonction pour le rapport de classification\n",
        "from sklearn.metrics import classification_report\n",
        "\n",
        "# Prédiction sur les données de test et affichage du rapport de classification\n",
        "print(classification_report(y_test, modele.predict(X_test), digits=4))\n"
      ],
      "metadata": {
        "colab": {
          "base_uri": "https://localhost:8080/"
        },
        "id": "mTL4nwvj-fgG",
        "outputId": "dfd72475-8cd5-402b-9c7c-a08a38b84d5a"
      },
      "execution_count": null,
      "outputs": [
        {
          "output_type": "stream",
          "name": "stdout",
          "text": [
            "              precision    recall  f1-score   support\n",
            "\n",
            "           0     0.8281    0.2294    0.3593       231\n",
            "           1     0.7721    0.9821    0.8645       614\n",
            "\n",
            "    accuracy                         0.7763       845\n",
            "   macro avg     0.8001    0.6058    0.6119       845\n",
            "weighted avg     0.7874    0.7763    0.7264       845\n",
            "\n"
          ]
        }
      ]
    },
    {
      "cell_type": "code",
      "source": [
        "# Classification d'un nouveau message\n",
        "\n",
        "phrase = \"Why should we trust scientists with global warming if they didn't know Pluto wasn't a planet\"\n",
        "print(phrase)\n",
        "\n",
        "# Normalisation\n",
        "phrase = normalisation(phrase)\n",
        "\n",
        "# Suppression des stop words\n",
        "phrase = ' '.join([mot for mot in phrase.split() if mot not in stopWords])\n",
        "\n",
        "# Stemmatisation\n",
        "phrase = ' '.join([stemmer.stem(mot) for mot in phrase.split()])\n",
        "\n",
        "# Lemmatisation\n",
        "phrase = ' '.join([lemmatizer.lemmatize(mot) for mot in phrase.split()])\n",
        "\n",
        "print(phrase)\n",
        "\n",
        "# Prédiction\n",
        "prediction = modele.predict([phrase])\n",
        "print(prediction)\n",
        "\n",
        "# Affichage du résultat\n",
        "if prediction[0] == 0:\n",
        "    print(\" >> Ne croit pas au réchauffement climatique...\")\n",
        "else:\n",
        "    print(\" >> Croit au réchauffement climatique...\")\n"
      ],
      "metadata": {
        "colab": {
          "base_uri": "https://localhost:8080/"
        },
        "id": "XA51oNel-m9v",
        "outputId": "1749ed82-42a8-48d7-d81b-9819c8b63440"
      },
      "execution_count": null,
      "outputs": [
        {
          "output_type": "stream",
          "name": "stdout",
          "text": [
            "Why should we trust scientists with global warming if they didn't know Pluto wasn't a planet\n",
            "trust scientist global warm know pluto planet\n",
            "[1]\n",
            " >> Croit au réchauffement climatique...\n"
          ]
        }
      ]
    },
    {
      "cell_type": "code",
      "source": [
        "from sklearn.pipeline import Pipeline\n",
        "from sklearn.feature_extraction.text import CountVectorizer\n",
        "from sklearn.feature_extraction.text import TfidfTransformer\n",
        "from sklearn.svm import SVC\n",
        "\n",
        "# Création du pipeline\n",
        "etapes_apprentissage = Pipeline([\n",
        "    ('frequence', CountVectorizer()),            # Étape 1 : Conversion du texte en vecteurs de fréquence\n",
        "    ('tfidf', TfidfTransformer()),               # Étape 2 : Transformation en valeurs TF-IDF\n",
        "    ('classificateur', SVC(kernel='linear', C=2))  # Étape 3 : Application du classificateur SVC\n",
        "])\n",
        "\n",
        "# Entraînement du modèle\n",
        "modele = etapes_apprentissage.fit(X_train, y_train)\n",
        "\n",
        "# Importation de la fonction pour le rapport de classification\n",
        "from sklearn.metrics import classification_report\n",
        "\n",
        "# Prédiction sur les données de test et affichage du rapport de classification\n",
        "print(classification_report(y_test, modele.predict(X_test), digits=4))\n"
      ],
      "metadata": {
        "colab": {
          "base_uri": "https://localhost:8080/"
        },
        "id": "O4Fd1xQrFLCS",
        "outputId": "91fd55f2-35bd-4e22-d223-387547c82455"
      },
      "execution_count": null,
      "outputs": [
        {
          "output_type": "stream",
          "name": "stdout",
          "text": [
            "              precision    recall  f1-score   support\n",
            "\n",
            "           0     0.6959    0.5844    0.6353       231\n",
            "           1     0.8525    0.9039    0.8775       614\n",
            "\n",
            "    accuracy                         0.8166       845\n",
            "   macro avg     0.7742    0.7442    0.7564       845\n",
            "weighted avg     0.8097    0.8166    0.8113       845\n",
            "\n"
          ]
        }
      ]
    },
    {
      "cell_type": "code",
      "source": [
        "from sklearn.model_selection import GridSearchCV\n",
        "\n",
        "# Définition des paramètres à tester\n",
        "parameters = {'classificateur__C': [1, 2, 4, 5, 6, 7, 8, 9, 10, 11, 12]}\n",
        "\n",
        "# Création de l'objet GridSearchCV\n",
        "clf = GridSearchCV(etapes_apprentissage, parameters, cv=2)\n",
        "\n",
        "# Entraînement avec GridSearchCV\n",
        "clf.fit(X_train, y_train)\n",
        "\n",
        "# Affichage des meilleurs paramètres\n",
        "print(clf.best_params_)\n"
      ],
      "metadata": {
        "colab": {
          "base_uri": "https://localhost:8080/"
        },
        "id": "1ujxE5HfFLKn",
        "outputId": "7bfa90e6-496c-4457-8aeb-32ca39e8eb65"
      },
      "execution_count": null,
      "outputs": [
        {
          "output_type": "stream",
          "name": "stdout",
          "text": [
            "{'classificateur__C': 1}\n"
          ]
        }
      ]
    },
    {
      "cell_type": "code",
      "source": [
        "from sklearn import svm\n",
        "# Création du pipeline\n",
        "etapes_apprentissage = Pipeline([\n",
        "    ('frequence', CountVectorizer()),          # Étape 1 : Conversion du texte en vecteurs de fréquence\n",
        "    ('tfidf', TfidfTransformer()),             # Étape 2 : Transformation en valeurs TF-IDF\n",
        "    ('algorithme', svm.SVC(kernel='linear', C=1))  # Étape 3 : Application de l'algorithme SVM\n",
        "])\n",
        "\n",
        "# Entraînement du modèle\n",
        "modele = etapes_apprentissage.fit(X_train, y_train)\n",
        "\n",
        "# Prédiction et affichage du rapport de classification\n",
        "print(classification_report(y_test, modele.predict(X_test), digits=4))"
      ],
      "metadata": {
        "colab": {
          "base_uri": "https://localhost:8080/"
        },
        "id": "KXZ3Ag3cGAhI",
        "outputId": "2961c278-22e5-418a-e510-7366ae3b2a05"
      },
      "execution_count": null,
      "outputs": [
        {
          "output_type": "stream",
          "name": "stdout",
          "text": [
            "              precision    recall  f1-score   support\n",
            "\n",
            "           0     0.7158    0.5671    0.6329       231\n",
            "           1     0.8489    0.9153    0.8809       614\n",
            "\n",
            "    accuracy                         0.8201       845\n",
            "   macro avg     0.7824    0.7412    0.7569       845\n",
            "weighted avg     0.8126    0.8201    0.8131       845\n",
            "\n"
          ]
        }
      ]
    },
    {
      "cell_type": "code",
      "source": [],
      "metadata": {
        "id": "HaEUVUFgG-Wm"
      },
      "execution_count": null,
      "outputs": []
    }
  ]
}