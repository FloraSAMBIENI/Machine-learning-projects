{
  "nbformat": 4,
  "nbformat_minor": 0,
  "metadata": {
    "colab": {
      "provenance": []
    },
    "kernelspec": {
      "name": "python3",
      "display_name": "Python 3"
    },
    "language_info": {
      "name": "python"
    }
  },
  "cells": [
    {
      "cell_type": "code",
      "execution_count": null,
      "metadata": {
        "id": "MYTBIhkzYGZX"
      },
      "outputs": [],
      "source": [
        "import pandas as pd"
      ]
    },
    {
      "cell_type": "code",
      "source": [
        "#Chargement du dataset avec pour séparateur des tabulations\n",
        "dataset = pd.read_csv(\"/content/data/dataset.csv\", delimiter='\\t')\n",
        "#Suppression des lignes ayant des valeurs manquantes\n",
        "dataset = dataset.dropna(axis=0 , how='any')"
      ],
      "metadata": {
        "id": "ypwvq27xZvJF"
      },
      "execution_count": null,
      "outputs": []
    },
    {
      "cell_type": "code",
      "source": [
        "#X = on prend toutes les données , ma i s un i q u e ment l es features 5à 12\n",
        "#(ne pas hésiter à ouvrir le fichier afin de bien visualiser les features concernées)\n",
        "#POINTS_ATTAQUE ; POINTS_DEFFENCE ; POINTS_ATTAQUE_SPECIALE ; POINT_DEFENSE SPECIALE ; POINTS VITESSE ; NOMBR E GENERATIONS- - -\n",
        "X= dataset.iloc[ :, 5 : 12].values"
      ],
      "metadata": {
        "id": "59Vfadmqacbn"
      },
      "execution_count": null,
      "outputs": []
    },
    {
      "cell_type": "code",
      "source": [
        "#y = on prend uniquement la feature POURCENTAGE_DE_VICTOIRE (17 ème feature)\n",
        "y= dataset.iloc[ :, 17].values"
      ],
      "metadata": {
        "id": "eM3TgI41adj0"
      },
      "execution_count": null,
      "outputs": []
    },
    {
      "cell_type": "code",
      "source": [
        "\n",
        "#Construction du jeu d'entrainement et du jeu de test\n",
        "\n",
        "from sklearn.model_selection import train_test_split\n",
        "\n",
        "X_APPRENTISSAGE, X_VALIDATION, Y_APPRENTISSAGE, Y_VALIDATION = train_test_split(X, y, test_size = 0.2, random_state = 0)"
      ],
      "metadata": {
        "id": "R4_wx7BJgsS4"
      },
      "execution_count": null,
      "outputs": []
    },
    {
      "cell_type": "code",
      "source": [
        "#---- ALGORITHME 1 : REGRESSION LINEAIRE\n",
        "from sklearn.metrics import r2_score\n",
        "from sklearn.linear_model import LinearRegression\n",
        "\n",
        "#Choix de l'algorithme\n",
        "algorithme = LinearRegression()\n",
        "\n",
        "#Apprentissage à l'aide de la fonction fit\n",
        "#Apprentisage effectué sur le jeu de données d'apprentissage\n",
        "algorithme.fit(X_APPRENTISSAGE, Y_APPRENTISSAGE)\n",
        "\n",
        "#Realisation de prédictions sur le jeu de test (validation)\n",
        "predictions = algorithme.predict(X_VALIDATION)\n",
        "\n",
        "#Calcul de la précision de l'apprentissage à l'aide de la fonction r2 score en comparant les valeurs prédites\n",
        "#(predictions) et les valeurs attendues (Y_VALIDATION)\n",
        "precision = r2_score(Y_VALIDATION, predictions)\n",
        "\n",
        "print(\" >> ------- - - - -REGRESSION LINEAIRE------ -- ---\")\n",
        "print(\" >> Precision= \" +str(precision ))\n",
        "print(\"-- - - -- ------ --------- - -------- ------ - -----\")"
      ],
      "metadata": {
        "colab": {
          "base_uri": "https://localhost:8080/"
        },
        "id": "5LC1YPr1j9o5",
        "outputId": "c0122d2e-258e-4f93-8985-1d5a8895a667"
      },
      "execution_count": null,
      "outputs": [
        {
          "output_type": "stream",
          "name": "stdout",
          "text": [
            " >> ------- - - - -REGRESSION LINEAIRE------ -- ---\n",
            " >> Precision= 0.9043488485570964\n",
            "-- - - -- ------ --------- - -------- ------ - -----\n"
          ]
        }
      ]
    },
    {
      "cell_type": "code",
      "source": [
        "# Arbre de décision\n",
        "\n",
        "#Choix de l'algorithme\n",
        "from sklearn.tree import DecisionTreeRegressor\n",
        "algorithme = DecisionTreeRegressor()\n",
        "algorithme.fit(X_APPRENTISSAGE, Y_APPRENTISSAGE)\n",
        "predictions = algorithme.predict(X_VALIDATION)\n",
        "precision= r2_score(Y_VALIDATION , predictions)\n",
        "print( \" >> -----------ARBRES DE DECISIONS -----------\" )\n",
        "print(\" >> Precision= \" +str(precision ))\n",
        "print(\"-- - - -- ------ --------- - -------- ------ - -----\")"
      ],
      "metadata": {
        "colab": {
          "base_uri": "https://localhost:8080/"
        },
        "id": "IA7jiRqFvm1C",
        "outputId": "d429d730-9a91-4e1e-d287-86081f9e5f34"
      },
      "execution_count": null,
      "outputs": [
        {
          "output_type": "stream",
          "name": "stdout",
          "text": [
            " >> -----------ARBRES DE DECISIONS -----------\n",
            " >> Precision= 0.883794914780752\n",
            "-- - - -- ------ --------- - -------- ------ - -----\n"
          ]
        }
      ]
    },
    {
      "cell_type": "code",
      "source": [
        "#C h oix de l ' algorithme\n",
        "from sklearn.ensemble import RandomForestRegressor\n",
        "algorithme = RandomForestRegressor()\n",
        "algorithme.fit(X_APPRENTISSAGE , Y_APPRENTISSAGE)\n",
        "predictions = algorithme.predict(X_VALIDATION)\n",
        "precision= r2_score(Y_VALIDATION , predictions)\n",
        "print(\" >> --- ----- - -- FORETS ALEATOIRES -----------\")\n",
        "print(\" >> Precision= \" +str(precision ))\n",
        "print(\"------------------------------ -- - --- - ----- \")"
      ],
      "metadata": {
        "colab": {
          "base_uri": "https://localhost:8080/"
        },
        "id": "SBFI5c4PymGv",
        "outputId": "b4eaed53-c180-4dea-c4f8-330ab0ffcfc9"
      },
      "execution_count": null,
      "outputs": [
        {
          "output_type": "stream",
          "name": "stdout",
          "text": [
            " >> --- ----- - -- FORETS ALEATOIRES -----------\n",
            " >> Precision= 0.9397665884126815\n",
            "------------------------------ -- - --- - ----- \n"
          ]
        }
      ]
    },
    {
      "cell_type": "code",
      "source": [
        "# sauvegarder modèle d'apprentissage\n",
        "import joblib\n",
        "fichier = '/content/data/modele_pokemon.mod'\n",
        "joblib.dump(algorithme, fichier)"
      ],
      "metadata": {
        "colab": {
          "base_uri": "https://localhost:8080/"
        },
        "id": "gARxnCpv1yem",
        "outputId": "a6daffd3-e1e3-4bd4-fa5e-3bfaabd78794"
      },
      "execution_count": null,
      "outputs": [
        {
          "output_type": "execute_result",
          "data": {
            "text/plain": [
              "['/content/data/modele_pokemon.mod']"
            ]
          },
          "metadata": {},
          "execution_count": 9
        }
      ]
    },
    {
      "cell_type": "code",
      "source": [
        "# Overfitting et underfitting\n",
        "predictions = algorithme.predict(X_VALIDATION)\n",
        "precision_apprentissage = algorithme.score(X_APPRENTISSAGE,Y_APPRENTISSAGE)\n",
        "precision = r2_score(Y_VALIDATION , predictions)\n",
        "print(precision_apprentissage , precision)"
      ],
      "metadata": {
        "colab": {
          "base_uri": "https://localhost:8080/"
        },
        "id": "Cnazh2qQZiFy",
        "outputId": "c853d8e8-a72b-4702-abc5-6b6cb31d6dfe"
      },
      "execution_count": null,
      "outputs": [
        {
          "output_type": "stream",
          "name": "stdout",
          "text": [
            "0.9919401694792559 0.9397665884126815\n"
          ]
        }
      ]
    }
  ]
}